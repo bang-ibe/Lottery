{
 "cells": [
  {
   "cell_type": "code",
   "execution_count": 1,
   "id": "383b14b0",
   "metadata": {},
   "outputs": [],
   "source": [
    "import numpy as np\n",
    "import pandas as pd\n",
    "from sklearn.preprocessing import StandardScaler\n",
    "from keras.models import Sequential\n",
    "from keras.layers import LSTM, Dense, Bidirectional, Dropout"
   ]
  },
  {
   "cell_type": "code",
   "execution_count": 27,
   "id": "eeb61300",
   "metadata": {},
   "outputs": [
    {
     "name": "stdout",
     "output_type": "stream",
     "text": [
      "            0           1          2     3\n",
      "0   Singapore  11-08-2022   Thursday  8032\n",
      "1   Singapore  10-08-2022  Wednesday  6844\n",
      "2   Singapore  08-08-2022     Monday  2106\n",
      "3   Singapore  07-08-2022     Sunday  9961\n",
      "4   Singapore  06-08-2022   Saturday  3784\n",
      "..        ...         ...        ...   ...\n",
      "95  Singapore  31-03-2022   Thursday  4613\n",
      "96  Singapore  30-03-2022  Wednesday  8730\n",
      "97  Singapore  28-03-2022     Monday  9103\n",
      "98  Singapore  27-03-2022     Sunday  1099\n",
      "99  Singapore  26-03-2022   Saturday   660\n",
      "\n",
      "[100 rows x 4 columns]\n"
     ]
    }
   ],
   "source": [
    "df = pd.read_csv(\"Lottery Singapore Dataset.txt\",sep = \"\\t\", header=None)\n",
    "df = np.flipud(df)\n",
    "df = pd.DataFrame(df, columns = ['Game','Dates','Day', 'Numbers'])\n",
    "\n",
    "print(df)\n",
    "# df.head()\n",
    "# columns = (\"Name\",\"Date\",\"Day\",\"Numbers\")"
   ]
  },
  {
   "cell_type": "code",
   "execution_count": 3,
   "id": "59d4b02b",
   "metadata": {},
   "outputs": [
    {
     "name": "stdout",
     "output_type": "stream",
     "text": [
      "<class 'pandas.core.frame.DataFrame'>\n"
     ]
    },
    {
     "data": {
      "text/html": [
       "<div>\n",
       "<style scoped>\n",
       "    .dataframe tbody tr th:only-of-type {\n",
       "        vertical-align: middle;\n",
       "    }\n",
       "\n",
       "    .dataframe tbody tr th {\n",
       "        vertical-align: top;\n",
       "    }\n",
       "\n",
       "    .dataframe thead th {\n",
       "        text-align: right;\n",
       "    }\n",
       "</style>\n",
       "<table border=\"1\" class=\"dataframe\">\n",
       "  <thead>\n",
       "    <tr style=\"text-align: right;\">\n",
       "      <th></th>\n",
       "      <th>Game</th>\n",
       "      <th>Dates</th>\n",
       "      <th>Day</th>\n",
       "      <th>Numbers</th>\n",
       "    </tr>\n",
       "  </thead>\n",
       "  <tbody>\n",
       "    <tr>\n",
       "      <th>0</th>\n",
       "      <td>Singapore</td>\n",
       "      <td>26-03-2022</td>\n",
       "      <td>Saturday</td>\n",
       "      <td>660</td>\n",
       "    </tr>\n",
       "    <tr>\n",
       "      <th>1</th>\n",
       "      <td>Singapore</td>\n",
       "      <td>27-03-2022</td>\n",
       "      <td>Sunday</td>\n",
       "      <td>1099</td>\n",
       "    </tr>\n",
       "    <tr>\n",
       "      <th>2</th>\n",
       "      <td>Singapore</td>\n",
       "      <td>28-03-2022</td>\n",
       "      <td>Monday</td>\n",
       "      <td>9103</td>\n",
       "    </tr>\n",
       "    <tr>\n",
       "      <th>3</th>\n",
       "      <td>Singapore</td>\n",
       "      <td>30-03-2022</td>\n",
       "      <td>Wednesday</td>\n",
       "      <td>8730</td>\n",
       "    </tr>\n",
       "    <tr>\n",
       "      <th>4</th>\n",
       "      <td>Singapore</td>\n",
       "      <td>31-03-2022</td>\n",
       "      <td>Thursday</td>\n",
       "      <td>4613</td>\n",
       "    </tr>\n",
       "  </tbody>\n",
       "</table>\n",
       "</div>"
      ],
      "text/plain": [
       "        Game       Dates        Day Numbers\n",
       "0  Singapore  26-03-2022   Saturday     660\n",
       "1  Singapore  27-03-2022     Sunday    1099\n",
       "2  Singapore  28-03-2022     Monday    9103\n",
       "3  Singapore  30-03-2022  Wednesday    8730\n",
       "4  Singapore  31-03-2022   Thursday    4613"
      ]
     },
     "execution_count": 3,
     "metadata": {},
     "output_type": "execute_result"
    }
   ],
   "source": [
    "# df = df.drop(df.index[[0,]])\n",
    "# df.columns = (\"Name\",\"Date\",\"Day\",\"Numbers\")\n",
    "print(type(df))\n",
    "df.head()\n",
    "# print(df.shape())\n",
    "# df.types"
   ]
  },
  {
   "cell_type": "code",
   "execution_count": 4,
   "id": "4f8ae5b5",
   "metadata": {},
   "outputs": [
    {
     "data": {
      "text/html": [
       "<div>\n",
       "<style scoped>\n",
       "    .dataframe tbody tr th:only-of-type {\n",
       "        vertical-align: middle;\n",
       "    }\n",
       "\n",
       "    .dataframe tbody tr th {\n",
       "        vertical-align: top;\n",
       "    }\n",
       "\n",
       "    .dataframe thead th {\n",
       "        text-align: right;\n",
       "    }\n",
       "</style>\n",
       "<table border=\"1\" class=\"dataframe\">\n",
       "  <thead>\n",
       "    <tr style=\"text-align: right;\">\n",
       "      <th></th>\n",
       "      <th>Game</th>\n",
       "      <th>Dates</th>\n",
       "      <th>Day</th>\n",
       "      <th>Numbers</th>\n",
       "    </tr>\n",
       "  </thead>\n",
       "  <tbody>\n",
       "    <tr>\n",
       "      <th>95</th>\n",
       "      <td>Singapore</td>\n",
       "      <td>06-08-2022</td>\n",
       "      <td>Saturday</td>\n",
       "      <td>3784</td>\n",
       "    </tr>\n",
       "    <tr>\n",
       "      <th>96</th>\n",
       "      <td>Singapore</td>\n",
       "      <td>07-08-2022</td>\n",
       "      <td>Sunday</td>\n",
       "      <td>9961</td>\n",
       "    </tr>\n",
       "    <tr>\n",
       "      <th>97</th>\n",
       "      <td>Singapore</td>\n",
       "      <td>08-08-2022</td>\n",
       "      <td>Monday</td>\n",
       "      <td>2106</td>\n",
       "    </tr>\n",
       "    <tr>\n",
       "      <th>98</th>\n",
       "      <td>Singapore</td>\n",
       "      <td>10-08-2022</td>\n",
       "      <td>Wednesday</td>\n",
       "      <td>6844</td>\n",
       "    </tr>\n",
       "    <tr>\n",
       "      <th>99</th>\n",
       "      <td>Singapore</td>\n",
       "      <td>11-08-2022</td>\n",
       "      <td>Thursday</td>\n",
       "      <td>8032</td>\n",
       "    </tr>\n",
       "  </tbody>\n",
       "</table>\n",
       "</div>"
      ],
      "text/plain": [
       "         Game       Dates        Day Numbers\n",
       "95  Singapore  06-08-2022   Saturday    3784\n",
       "96  Singapore  07-08-2022     Sunday    9961\n",
       "97  Singapore  08-08-2022     Monday    2106\n",
       "98  Singapore  10-08-2022  Wednesday    6844\n",
       "99  Singapore  11-08-2022   Thursday    8032"
      ]
     },
     "execution_count": 4,
     "metadata": {},
     "output_type": "execute_result"
    }
   ],
   "source": [
    "df.tail()"
   ]
  },
  {
   "cell_type": "code",
   "execution_count": 5,
   "id": "e5546432",
   "metadata": {},
   "outputs": [
    {
     "name": "stdout",
     "output_type": "stream",
     "text": [
      "(100, 4)\n"
     ]
    }
   ],
   "source": [
    "print(df.shape)"
   ]
  },
  {
   "cell_type": "code",
   "execution_count": 6,
   "id": "bc9dea86",
   "metadata": {},
   "outputs": [
    {
     "name": "stdout",
     "output_type": "stream",
     "text": [
      "<class 'pandas.core.frame.DataFrame'>\n",
      "RangeIndex: 100 entries, 0 to 99\n",
      "Data columns (total 4 columns):\n",
      " #   Column   Non-Null Count  Dtype \n",
      "---  ------   --------------  ----- \n",
      " 0   Game     100 non-null    object\n",
      " 1   Dates    100 non-null    object\n",
      " 2   Day      100 non-null    object\n",
      " 3   Numbers  100 non-null    object\n",
      "dtypes: object(4)\n",
      "memory usage: 3.2+ KB\n"
     ]
    }
   ],
   "source": [
    "df.info()"
   ]
  },
  {
   "cell_type": "code",
   "execution_count": 7,
   "id": "0b1129ee",
   "metadata": {},
   "outputs": [
    {
     "data": {
      "text/html": [
       "<div>\n",
       "<style scoped>\n",
       "    .dataframe tbody tr th:only-of-type {\n",
       "        vertical-align: middle;\n",
       "    }\n",
       "\n",
       "    .dataframe tbody tr th {\n",
       "        vertical-align: top;\n",
       "    }\n",
       "\n",
       "    .dataframe thead th {\n",
       "        text-align: right;\n",
       "    }\n",
       "</style>\n",
       "<table border=\"1\" class=\"dataframe\">\n",
       "  <thead>\n",
       "    <tr style=\"text-align: right;\">\n",
       "      <th></th>\n",
       "      <th>Numbers</th>\n",
       "    </tr>\n",
       "  </thead>\n",
       "  <tbody>\n",
       "    <tr>\n",
       "      <th>0</th>\n",
       "      <td>660</td>\n",
       "    </tr>\n",
       "    <tr>\n",
       "      <th>1</th>\n",
       "      <td>1099</td>\n",
       "    </tr>\n",
       "    <tr>\n",
       "      <th>2</th>\n",
       "      <td>9103</td>\n",
       "    </tr>\n",
       "    <tr>\n",
       "      <th>3</th>\n",
       "      <td>8730</td>\n",
       "    </tr>\n",
       "    <tr>\n",
       "      <th>4</th>\n",
       "      <td>4613</td>\n",
       "    </tr>\n",
       "  </tbody>\n",
       "</table>\n",
       "</div>"
      ],
      "text/plain": [
       "  Numbers\n",
       "0     660\n",
       "1    1099\n",
       "2    9103\n",
       "3    8730\n",
       "4    4613"
      ]
     },
     "execution_count": 7,
     "metadata": {},
     "output_type": "execute_result"
    }
   ],
   "source": [
    "df.drop([\"Game\", \"Dates\", \"Day\"], axis=1, inplace=True)\n",
    "df.head()"
   ]
  },
  {
   "cell_type": "code",
   "execution_count": 8,
   "id": "33a24fe0",
   "metadata": {},
   "outputs": [
    {
     "data": {
      "text/html": [
       "<div>\n",
       "<style scoped>\n",
       "    .dataframe tbody tr th:only-of-type {\n",
       "        vertical-align: middle;\n",
       "    }\n",
       "\n",
       "    .dataframe tbody tr th {\n",
       "        vertical-align: top;\n",
       "    }\n",
       "\n",
       "    .dataframe thead th {\n",
       "        text-align: right;\n",
       "    }\n",
       "</style>\n",
       "<table border=\"1\" class=\"dataframe\">\n",
       "  <thead>\n",
       "    <tr style=\"text-align: right;\">\n",
       "      <th></th>\n",
       "      <th>0</th>\n",
       "    </tr>\n",
       "  </thead>\n",
       "  <tbody>\n",
       "    <tr>\n",
       "      <th>0</th>\n",
       "      <td>-1.453569</td>\n",
       "    </tr>\n",
       "    <tr>\n",
       "      <th>1</th>\n",
       "      <td>-1.309933</td>\n",
       "    </tr>\n",
       "    <tr>\n",
       "      <th>2</th>\n",
       "      <td>1.308899</td>\n",
       "    </tr>\n",
       "    <tr>\n",
       "      <th>3</th>\n",
       "      <td>1.186857</td>\n",
       "    </tr>\n",
       "    <tr>\n",
       "      <th>4</th>\n",
       "      <td>-0.160186</td>\n",
       "    </tr>\n",
       "  </tbody>\n",
       "</table>\n",
       "</div>"
      ],
      "text/plain": [
       "          0\n",
       "0 -1.453569\n",
       "1 -1.309933\n",
       "2  1.308899\n",
       "3  1.186857\n",
       "4 -0.160186"
      ]
     },
     "execution_count": 8,
     "metadata": {},
     "output_type": "execute_result"
    }
   ],
   "source": [
    "scaler = StandardScaler().fit(df.values)\n",
    "transformed_dataset = scaler.transform(df.values)\n",
    "transformed_df = pd.DataFrame(data=transformed_dataset, index=df.index)\n",
    "transformed_df.head()\n"
   ]
  },
  {
   "cell_type": "code",
   "execution_count": 9,
   "id": "6e3589a2",
   "metadata": {},
   "outputs": [
    {
     "data": {
      "text/plain": [
       "100"
      ]
     },
     "execution_count": 9,
     "metadata": {},
     "output_type": "execute_result"
    }
   ],
   "source": [
    "# All our games\n",
    "number_of_rows = df.values.shape[0]\n",
    "number_of_rows"
   ]
  },
  {
   "cell_type": "code",
   "execution_count": 10,
   "id": "361f1f1a",
   "metadata": {},
   "outputs": [
    {
     "data": {
      "text/plain": [
       "1"
      ]
     },
     "execution_count": 10,
     "metadata": {},
     "output_type": "execute_result"
    }
   ],
   "source": [
    "# Balls counts\n",
    "number_of_features = df.values.shape[1]\n",
    "number_of_features"
   ]
  },
  {
   "cell_type": "code",
   "execution_count": 11,
   "id": "d1527e01",
   "metadata": {},
   "outputs": [
    {
     "data": {
      "text/plain": [
       "7"
      ]
     },
     "execution_count": 11,
     "metadata": {},
     "output_type": "execute_result"
    }
   ],
   "source": [
    "# Amount of games we need to take into consideration for prediction\n",
    "window_length = 7\n",
    "window_length"
   ]
  },
  {
   "cell_type": "code",
   "execution_count": 12,
   "id": "a3be0628",
   "metadata": {},
   "outputs": [],
   "source": [
    "X = np.empty([ number_of_rows - window_length, window_length, number_of_features], dtype=float)\n",
    "y = np.empty([ number_of_rows - window_length, number_of_features], dtype=float)\n",
    "for i in range(0, number_of_rows-window_length):\n",
    "    X[i] = transformed_df.iloc[i : i+window_length, 0 : number_of_features]\n",
    "    y[i] = transformed_df.iloc[i+window_length : i+window_length+1, 0 : number_of_features]"
   ]
  },
  {
   "cell_type": "code",
   "execution_count": 13,
   "id": "cb5713bb",
   "metadata": {},
   "outputs": [
    {
     "data": {
      "text/plain": [
       "(93, 7, 1)"
      ]
     },
     "execution_count": 13,
     "metadata": {},
     "output_type": "execute_result"
    }
   ],
   "source": [
    "X.shape"
   ]
  },
  {
   "cell_type": "code",
   "execution_count": 14,
   "id": "f3cf8103",
   "metadata": {},
   "outputs": [
    {
     "data": {
      "text/plain": [
       "(93, 1)"
      ]
     },
     "execution_count": 14,
     "metadata": {},
     "output_type": "execute_result"
    }
   ],
   "source": [
    "y.shape\n"
   ]
  },
  {
   "cell_type": "code",
   "execution_count": 15,
   "id": "7e84d9fc",
   "metadata": {},
   "outputs": [
    {
     "data": {
      "text/plain": [
       "array([[-1.45356936],\n",
       "       [-1.30993279],\n",
       "       [ 1.30889887],\n",
       "       [ 1.18685686],\n",
       "       [-0.16018586],\n",
       "       [-1.32890983],\n",
       "       [ 1.31707863]])"
      ]
     },
     "execution_count": 15,
     "metadata": {},
     "output_type": "execute_result"
    }
   ],
   "source": [
    "X[0]\n"
   ]
  },
  {
   "cell_type": "code",
   "execution_count": 16,
   "id": "d28622ba",
   "metadata": {},
   "outputs": [
    {
     "data": {
      "text/plain": [
       "array([-0.64606355])"
      ]
     },
     "execution_count": 16,
     "metadata": {},
     "output_type": "execute_result"
    }
   ],
   "source": [
    "y[0]\n"
   ]
  },
  {
   "cell_type": "code",
   "execution_count": 17,
   "id": "9931dcc2",
   "metadata": {},
   "outputs": [
    {
     "data": {
      "text/plain": [
       "array([-0.42062939])"
      ]
     },
     "execution_count": 17,
     "metadata": {},
     "output_type": "execute_result"
    }
   ],
   "source": [
    "y[1]\n"
   ]
  },
  {
   "cell_type": "code",
   "execution_count": 18,
   "id": "55dc33de",
   "metadata": {},
   "outputs": [],
   "source": [
    "# Init RNN\n",
    "model = Sequential()\n",
    "model.add(Bidirectional(LSTM(240, input_shape = (window_length, number_of_features), return_sequences = True)))"
   ]
  },
  {
   "cell_type": "code",
   "execution_count": 19,
   "id": "c74949f8",
   "metadata": {},
   "outputs": [],
   "source": [
    "model.add(Dropout(0.2))\n",
    "model.add(Bidirectional(LSTM(240, input_shape = (window_length, number_of_features), return_sequences = True)))"
   ]
  },
  {
   "cell_type": "code",
   "execution_count": 20,
   "id": "9cd4b6be",
   "metadata": {},
   "outputs": [],
   "source": [
    "model.add(Dropout(0.2))\n",
    "model.add(Bidirectional(LSTM(240, input_shape = (window_length, number_of_features), return_sequences = True)))"
   ]
  },
  {
   "cell_type": "code",
   "execution_count": 21,
   "id": "e5ed7aef",
   "metadata": {},
   "outputs": [],
   "source": [
    "model.add(Bidirectional(LSTM(240, input_shape = (window_length, number_of_features), return_sequences = False)))"
   ]
  },
  {
   "cell_type": "code",
   "execution_count": 22,
   "id": "74d1244c",
   "metadata": {},
   "outputs": [],
   "source": [
    "model.add(Dense(59))\n"
   ]
  },
  {
   "cell_type": "code",
   "execution_count": 23,
   "id": "b75d2fbf",
   "metadata": {},
   "outputs": [],
   "source": [
    "model.add(Dense(number_of_features))\n"
   ]
  },
  {
   "cell_type": "code",
   "execution_count": 24,
   "id": "6e93b503",
   "metadata": {},
   "outputs": [],
   "source": [
    "from tensorflow import keras\n",
    "from tensorflow.keras.optimizers import Adam\n",
    "model.compile(optimizer=Adam(learning_rate=0.0001), loss ='mse', metrics=['accuracy']) #0.0001"
   ]
  },
  {
   "cell_type": "code",
   "execution_count": 25,
   "id": "30ef33c9",
   "metadata": {
    "scrolled": true
   },
   "outputs": [
    {
     "name": "stdout",
     "output_type": "stream",
     "text": [
      "Epoch 1/300\n",
      "1/1 - 54s - loss: 0.9625 - accuracy: 0.0000e+00\n",
      "Epoch 2/300\n",
      "1/1 - 1s - loss: 0.9617 - accuracy: 0.0000e+00\n",
      "Epoch 3/300\n",
      "1/1 - 0s - loss: 0.9606 - accuracy: 0.0000e+00\n",
      "Epoch 4/300\n",
      "1/1 - 0s - loss: 0.9601 - accuracy: 0.0000e+00\n",
      "Epoch 5/300\n",
      "1/1 - 0s - loss: 0.9585 - accuracy: 0.0000e+00\n",
      "Epoch 6/300\n",
      "1/1 - 0s - loss: 0.9576 - accuracy: 0.0000e+00\n",
      "Epoch 7/300\n",
      "1/1 - 1s - loss: 0.9568 - accuracy: 0.0000e+00\n",
      "Epoch 8/300\n",
      "1/1 - 0s - loss: 0.9560 - accuracy: 0.0000e+00\n",
      "Epoch 9/300\n",
      "1/1 - 1s - loss: 0.9547 - accuracy: 0.0000e+00\n",
      "Epoch 10/300\n",
      "1/1 - 1s - loss: 0.9536 - accuracy: 0.0000e+00\n",
      "Epoch 11/300\n",
      "1/1 - 1s - loss: 0.9534 - accuracy: 0.0000e+00\n",
      "Epoch 12/300\n",
      "1/1 - 0s - loss: 0.9522 - accuracy: 0.0000e+00\n",
      "Epoch 13/300\n",
      "1/1 - 1s - loss: 0.9519 - accuracy: 0.0000e+00\n",
      "Epoch 14/300\n",
      "1/1 - 1s - loss: 0.9510 - accuracy: 0.0000e+00\n",
      "Epoch 15/300\n",
      "1/1 - 0s - loss: 0.9489 - accuracy: 0.0000e+00\n",
      "Epoch 16/300\n",
      "1/1 - 0s - loss: 0.9480 - accuracy: 0.0000e+00\n",
      "Epoch 17/300\n",
      "1/1 - 0s - loss: 0.9473 - accuracy: 0.0000e+00\n",
      "Epoch 18/300\n",
      "1/1 - 0s - loss: 0.9466 - accuracy: 0.0000e+00\n",
      "Epoch 19/300\n",
      "1/1 - 0s - loss: 0.9450 - accuracy: 0.0000e+00\n",
      "Epoch 20/300\n",
      "1/1 - 0s - loss: 0.9427 - accuracy: 0.0000e+00\n",
      "Epoch 21/300\n",
      "1/1 - 0s - loss: 0.9448 - accuracy: 0.0000e+00\n",
      "Epoch 22/300\n",
      "1/1 - 0s - loss: 0.9437 - accuracy: 0.0000e+00\n",
      "Epoch 23/300\n",
      "1/1 - 0s - loss: 0.9430 - accuracy: 0.0000e+00\n",
      "Epoch 24/300\n",
      "1/1 - 0s - loss: 0.9430 - accuracy: 0.0000e+00\n",
      "Epoch 25/300\n",
      "1/1 - 0s - loss: 0.9428 - accuracy: 0.0000e+00\n",
      "Epoch 26/300\n",
      "1/1 - 0s - loss: 0.9425 - accuracy: 0.0000e+00\n",
      "Epoch 27/300\n",
      "1/1 - 0s - loss: 0.9415 - accuracy: 0.0000e+00\n",
      "Epoch 28/300\n",
      "1/1 - 0s - loss: 0.9411 - accuracy: 0.0000e+00\n",
      "Epoch 29/300\n",
      "1/1 - 0s - loss: 0.9401 - accuracy: 0.0000e+00\n",
      "Epoch 30/300\n",
      "1/1 - 0s - loss: 0.9412 - accuracy: 0.0000e+00\n",
      "Epoch 31/300\n",
      "1/1 - 0s - loss: 0.9391 - accuracy: 0.0000e+00\n",
      "Epoch 32/300\n",
      "1/1 - 0s - loss: 0.9429 - accuracy: 0.0000e+00\n",
      "Epoch 33/300\n",
      "1/1 - 0s - loss: 0.9413 - accuracy: 0.0000e+00\n",
      "Epoch 34/300\n",
      "1/1 - 0s - loss: 0.9403 - accuracy: 0.0000e+00\n",
      "Epoch 35/300\n",
      "1/1 - 0s - loss: 0.9386 - accuracy: 0.0000e+00\n",
      "Epoch 36/300\n",
      "1/1 - 0s - loss: 0.9377 - accuracy: 0.0000e+00\n",
      "Epoch 37/300\n",
      "1/1 - 0s - loss: 0.9372 - accuracy: 0.0000e+00\n",
      "Epoch 38/300\n",
      "1/1 - 0s - loss: 0.9369 - accuracy: 0.0000e+00\n",
      "Epoch 39/300\n",
      "1/1 - 0s - loss: 0.9364 - accuracy: 0.0000e+00\n",
      "Epoch 40/300\n",
      "1/1 - 0s - loss: 0.9368 - accuracy: 0.0000e+00\n",
      "Epoch 41/300\n",
      "1/1 - 0s - loss: 0.9338 - accuracy: 0.0000e+00\n",
      "Epoch 42/300\n",
      "1/1 - 0s - loss: 0.9374 - accuracy: 0.0000e+00\n",
      "Epoch 43/300\n",
      "1/1 - 0s - loss: 0.9363 - accuracy: 0.0000e+00\n",
      "Epoch 44/300\n",
      "1/1 - 0s - loss: 0.9351 - accuracy: 0.0000e+00\n",
      "Epoch 45/300\n",
      "1/1 - 0s - loss: 0.9350 - accuracy: 0.0000e+00\n",
      "Epoch 46/300\n",
      "1/1 - 0s - loss: 0.9318 - accuracy: 0.0000e+00\n",
      "Epoch 47/300\n",
      "1/1 - 0s - loss: 0.9316 - accuracy: 0.0000e+00\n",
      "Epoch 48/300\n",
      "1/1 - 0s - loss: 0.9317 - accuracy: 0.0000e+00\n",
      "Epoch 49/300\n",
      "1/1 - 0s - loss: 0.9334 - accuracy: 0.0000e+00\n",
      "Epoch 50/300\n",
      "1/1 - 0s - loss: 0.9296 - accuracy: 0.0000e+00\n",
      "Epoch 51/300\n",
      "1/1 - 0s - loss: 0.9317 - accuracy: 0.0000e+00\n",
      "Epoch 52/300\n",
      "1/1 - 0s - loss: 0.9273 - accuracy: 0.0000e+00\n",
      "Epoch 53/300\n",
      "1/1 - 0s - loss: 0.9303 - accuracy: 0.0000e+00\n",
      "Epoch 54/300\n",
      "1/1 - 0s - loss: 0.9292 - accuracy: 0.0000e+00\n",
      "Epoch 55/300\n",
      "1/1 - 0s - loss: 0.9271 - accuracy: 0.0000e+00\n",
      "Epoch 56/300\n",
      "1/1 - 0s - loss: 0.9279 - accuracy: 0.0000e+00\n",
      "Epoch 57/300\n",
      "1/1 - 0s - loss: 0.9272 - accuracy: 0.0000e+00\n",
      "Epoch 58/300\n",
      "1/1 - 0s - loss: 0.9220 - accuracy: 0.0000e+00\n",
      "Epoch 59/300\n",
      "1/1 - 0s - loss: 0.9217 - accuracy: 0.0000e+00\n",
      "Epoch 60/300\n",
      "1/1 - 0s - loss: 0.9275 - accuracy: 0.0000e+00\n",
      "Epoch 61/300\n",
      "1/1 - 0s - loss: 0.9203 - accuracy: 0.0000e+00\n",
      "Epoch 62/300\n",
      "1/1 - 0s - loss: 0.9189 - accuracy: 0.0000e+00\n",
      "Epoch 63/300\n",
      "1/1 - 0s - loss: 0.9200 - accuracy: 0.0000e+00\n",
      "Epoch 64/300\n",
      "1/1 - 0s - loss: 0.9199 - accuracy: 0.0000e+00\n",
      "Epoch 65/300\n",
      "1/1 - 0s - loss: 0.9212 - accuracy: 0.0000e+00\n",
      "Epoch 66/300\n",
      "1/1 - 0s - loss: 0.9103 - accuracy: 0.0000e+00\n",
      "Epoch 67/300\n",
      "1/1 - 0s - loss: 0.9179 - accuracy: 0.0000e+00\n",
      "Epoch 68/300\n",
      "1/1 - 0s - loss: 0.9164 - accuracy: 0.0000e+00\n",
      "Epoch 69/300\n",
      "1/1 - 1s - loss: 0.9116 - accuracy: 0.0000e+00\n",
      "Epoch 70/300\n",
      "1/1 - 1s - loss: 0.9162 - accuracy: 0.0000e+00\n",
      "Epoch 71/300\n",
      "1/1 - 1s - loss: 0.9178 - accuracy: 0.0000e+00\n",
      "Epoch 72/300\n",
      "1/1 - 1s - loss: 0.9090 - accuracy: 0.0000e+00\n",
      "Epoch 73/300\n",
      "1/1 - 0s - loss: 0.9067 - accuracy: 0.0000e+00\n",
      "Epoch 74/300\n",
      "1/1 - 0s - loss: 0.9187 - accuracy: 0.0000e+00\n",
      "Epoch 75/300\n",
      "1/1 - 0s - loss: 0.9082 - accuracy: 0.0000e+00\n",
      "Epoch 76/300\n",
      "1/1 - 0s - loss: 0.9196 - accuracy: 0.0000e+00\n",
      "Epoch 77/300\n",
      "1/1 - 0s - loss: 0.9040 - accuracy: 0.0000e+00\n",
      "Epoch 78/300\n"
     ]
    },
    {
     "ename": "KeyboardInterrupt",
     "evalue": "",
     "output_type": "error",
     "traceback": [
      "\u001b[1;31m---------------------------------------------------------------------------\u001b[0m",
      "\u001b[1;31mKeyboardInterrupt\u001b[0m                         Traceback (most recent call last)",
      "Input \u001b[1;32mIn [25]\u001b[0m, in \u001b[0;36m<cell line: 1>\u001b[1;34m()\u001b[0m\n\u001b[1;32m----> 1\u001b[0m \u001b[43mmodel\u001b[49m\u001b[38;5;241;43m.\u001b[39;49m\u001b[43mfit\u001b[49m\u001b[43m(\u001b[49m\u001b[43mx\u001b[49m\u001b[38;5;241;43m=\u001b[39;49m\u001b[43mX\u001b[49m\u001b[43m,\u001b[49m\u001b[43m \u001b[49m\u001b[43my\u001b[49m\u001b[38;5;241;43m=\u001b[39;49m\u001b[43my\u001b[49m\u001b[43m,\u001b[49m\u001b[43m \u001b[49m\u001b[43mbatch_size\u001b[49m\u001b[38;5;241;43m=\u001b[39;49m\u001b[38;5;241;43m100\u001b[39;49m\u001b[43m,\u001b[49m\u001b[43m \u001b[49m\u001b[43mepochs\u001b[49m\u001b[38;5;241;43m=\u001b[39;49m\u001b[38;5;241;43m300\u001b[39;49m\u001b[43m,\u001b[49m\u001b[43m \u001b[49m\u001b[43mverbose\u001b[49m\u001b[38;5;241;43m=\u001b[39;49m\u001b[38;5;241;43m2\u001b[39;49m\u001b[43m)\u001b[49m\n",
      "File \u001b[1;32m~\\anaconda3\\envs\\Tensorflow\\lib\\site-packages\\keras\\engine\\training.py:1184\u001b[0m, in \u001b[0;36mModel.fit\u001b[1;34m(self, x, y, batch_size, epochs, verbose, callbacks, validation_split, validation_data, shuffle, class_weight, sample_weight, initial_epoch, steps_per_epoch, validation_steps, validation_batch_size, validation_freq, max_queue_size, workers, use_multiprocessing)\u001b[0m\n\u001b[0;32m   1177\u001b[0m \u001b[38;5;28;01mwith\u001b[39;00m tf\u001b[38;5;241m.\u001b[39mprofiler\u001b[38;5;241m.\u001b[39mexperimental\u001b[38;5;241m.\u001b[39mTrace(\n\u001b[0;32m   1178\u001b[0m     \u001b[38;5;124m'\u001b[39m\u001b[38;5;124mtrain\u001b[39m\u001b[38;5;124m'\u001b[39m,\n\u001b[0;32m   1179\u001b[0m     epoch_num\u001b[38;5;241m=\u001b[39mepoch,\n\u001b[0;32m   1180\u001b[0m     step_num\u001b[38;5;241m=\u001b[39mstep,\n\u001b[0;32m   1181\u001b[0m     batch_size\u001b[38;5;241m=\u001b[39mbatch_size,\n\u001b[0;32m   1182\u001b[0m     _r\u001b[38;5;241m=\u001b[39m\u001b[38;5;241m1\u001b[39m):\n\u001b[0;32m   1183\u001b[0m   callbacks\u001b[38;5;241m.\u001b[39mon_train_batch_begin(step)\n\u001b[1;32m-> 1184\u001b[0m   tmp_logs \u001b[38;5;241m=\u001b[39m \u001b[38;5;28;43mself\u001b[39;49m\u001b[38;5;241;43m.\u001b[39;49m\u001b[43mtrain_function\u001b[49m\u001b[43m(\u001b[49m\u001b[43miterator\u001b[49m\u001b[43m)\u001b[49m\n\u001b[0;32m   1185\u001b[0m   \u001b[38;5;28;01mif\u001b[39;00m data_handler\u001b[38;5;241m.\u001b[39mshould_sync:\n\u001b[0;32m   1186\u001b[0m     context\u001b[38;5;241m.\u001b[39masync_wait()\n",
      "File \u001b[1;32m~\\anaconda3\\envs\\Tensorflow\\lib\\site-packages\\tensorflow\\python\\eager\\def_function.py:885\u001b[0m, in \u001b[0;36mFunction.__call__\u001b[1;34m(self, *args, **kwds)\u001b[0m\n\u001b[0;32m    882\u001b[0m compiler \u001b[38;5;241m=\u001b[39m \u001b[38;5;124m\"\u001b[39m\u001b[38;5;124mxla\u001b[39m\u001b[38;5;124m\"\u001b[39m \u001b[38;5;28;01mif\u001b[39;00m \u001b[38;5;28mself\u001b[39m\u001b[38;5;241m.\u001b[39m_jit_compile \u001b[38;5;28;01melse\u001b[39;00m \u001b[38;5;124m\"\u001b[39m\u001b[38;5;124mnonXla\u001b[39m\u001b[38;5;124m\"\u001b[39m\n\u001b[0;32m    884\u001b[0m \u001b[38;5;28;01mwith\u001b[39;00m OptionalXlaContext(\u001b[38;5;28mself\u001b[39m\u001b[38;5;241m.\u001b[39m_jit_compile):\n\u001b[1;32m--> 885\u001b[0m   result \u001b[38;5;241m=\u001b[39m \u001b[38;5;28mself\u001b[39m\u001b[38;5;241m.\u001b[39m_call(\u001b[38;5;241m*\u001b[39margs, \u001b[38;5;241m*\u001b[39m\u001b[38;5;241m*\u001b[39mkwds)\n\u001b[0;32m    887\u001b[0m new_tracing_count \u001b[38;5;241m=\u001b[39m \u001b[38;5;28mself\u001b[39m\u001b[38;5;241m.\u001b[39mexperimental_get_tracing_count()\n\u001b[0;32m    888\u001b[0m without_tracing \u001b[38;5;241m=\u001b[39m (tracing_count \u001b[38;5;241m==\u001b[39m new_tracing_count)\n",
      "File \u001b[1;32m~\\anaconda3\\envs\\Tensorflow\\lib\\site-packages\\tensorflow\\python\\eager\\def_function.py:917\u001b[0m, in \u001b[0;36mFunction._call\u001b[1;34m(self, *args, **kwds)\u001b[0m\n\u001b[0;32m    914\u001b[0m   \u001b[38;5;28mself\u001b[39m\u001b[38;5;241m.\u001b[39m_lock\u001b[38;5;241m.\u001b[39mrelease()\n\u001b[0;32m    915\u001b[0m   \u001b[38;5;66;03m# In this case we have created variables on the first call, so we run the\u001b[39;00m\n\u001b[0;32m    916\u001b[0m   \u001b[38;5;66;03m# defunned version which is guaranteed to never create variables.\u001b[39;00m\n\u001b[1;32m--> 917\u001b[0m   \u001b[38;5;28;01mreturn\u001b[39;00m \u001b[38;5;28mself\u001b[39m\u001b[38;5;241m.\u001b[39m_stateless_fn(\u001b[38;5;241m*\u001b[39margs, \u001b[38;5;241m*\u001b[39m\u001b[38;5;241m*\u001b[39mkwds)  \u001b[38;5;66;03m# pylint: disable=not-callable\u001b[39;00m\n\u001b[0;32m    918\u001b[0m \u001b[38;5;28;01melif\u001b[39;00m \u001b[38;5;28mself\u001b[39m\u001b[38;5;241m.\u001b[39m_stateful_fn \u001b[38;5;129;01mis\u001b[39;00m \u001b[38;5;129;01mnot\u001b[39;00m \u001b[38;5;28;01mNone\u001b[39;00m:\n\u001b[0;32m    919\u001b[0m   \u001b[38;5;66;03m# Release the lock early so that multiple threads can perform the call\u001b[39;00m\n\u001b[0;32m    920\u001b[0m   \u001b[38;5;66;03m# in parallel.\u001b[39;00m\n\u001b[0;32m    921\u001b[0m   \u001b[38;5;28mself\u001b[39m\u001b[38;5;241m.\u001b[39m_lock\u001b[38;5;241m.\u001b[39mrelease()\n",
      "File \u001b[1;32m~\\anaconda3\\envs\\Tensorflow\\lib\\site-packages\\tensorflow\\python\\eager\\function.py:3039\u001b[0m, in \u001b[0;36mFunction.__call__\u001b[1;34m(self, *args, **kwargs)\u001b[0m\n\u001b[0;32m   3036\u001b[0m \u001b[38;5;28;01mwith\u001b[39;00m \u001b[38;5;28mself\u001b[39m\u001b[38;5;241m.\u001b[39m_lock:\n\u001b[0;32m   3037\u001b[0m   (graph_function,\n\u001b[0;32m   3038\u001b[0m    filtered_flat_args) \u001b[38;5;241m=\u001b[39m \u001b[38;5;28mself\u001b[39m\u001b[38;5;241m.\u001b[39m_maybe_define_function(args, kwargs)\n\u001b[1;32m-> 3039\u001b[0m \u001b[38;5;28;01mreturn\u001b[39;00m \u001b[43mgraph_function\u001b[49m\u001b[38;5;241;43m.\u001b[39;49m\u001b[43m_call_flat\u001b[49m\u001b[43m(\u001b[49m\n\u001b[0;32m   3040\u001b[0m \u001b[43m    \u001b[49m\u001b[43mfiltered_flat_args\u001b[49m\u001b[43m,\u001b[49m\u001b[43m \u001b[49m\u001b[43mcaptured_inputs\u001b[49m\u001b[38;5;241;43m=\u001b[39;49m\u001b[43mgraph_function\u001b[49m\u001b[38;5;241;43m.\u001b[39;49m\u001b[43mcaptured_inputs\u001b[49m\u001b[43m)\u001b[49m\n",
      "File \u001b[1;32m~\\anaconda3\\envs\\Tensorflow\\lib\\site-packages\\tensorflow\\python\\eager\\function.py:1963\u001b[0m, in \u001b[0;36mConcreteFunction._call_flat\u001b[1;34m(self, args, captured_inputs, cancellation_manager)\u001b[0m\n\u001b[0;32m   1959\u001b[0m possible_gradient_type \u001b[38;5;241m=\u001b[39m gradients_util\u001b[38;5;241m.\u001b[39mPossibleTapeGradientTypes(args)\n\u001b[0;32m   1960\u001b[0m \u001b[38;5;28;01mif\u001b[39;00m (possible_gradient_type \u001b[38;5;241m==\u001b[39m gradients_util\u001b[38;5;241m.\u001b[39mPOSSIBLE_GRADIENT_TYPES_NONE\n\u001b[0;32m   1961\u001b[0m     \u001b[38;5;129;01mand\u001b[39;00m executing_eagerly):\n\u001b[0;32m   1962\u001b[0m   \u001b[38;5;66;03m# No tape is watching; skip to running the function.\u001b[39;00m\n\u001b[1;32m-> 1963\u001b[0m   \u001b[38;5;28;01mreturn\u001b[39;00m \u001b[38;5;28mself\u001b[39m\u001b[38;5;241m.\u001b[39m_build_call_outputs(\u001b[38;5;28;43mself\u001b[39;49m\u001b[38;5;241;43m.\u001b[39;49m\u001b[43m_inference_function\u001b[49m\u001b[38;5;241;43m.\u001b[39;49m\u001b[43mcall\u001b[49m\u001b[43m(\u001b[49m\n\u001b[0;32m   1964\u001b[0m \u001b[43m      \u001b[49m\u001b[43mctx\u001b[49m\u001b[43m,\u001b[49m\u001b[43m \u001b[49m\u001b[43margs\u001b[49m\u001b[43m,\u001b[49m\u001b[43m \u001b[49m\u001b[43mcancellation_manager\u001b[49m\u001b[38;5;241;43m=\u001b[39;49m\u001b[43mcancellation_manager\u001b[49m\u001b[43m)\u001b[49m)\n\u001b[0;32m   1965\u001b[0m forward_backward \u001b[38;5;241m=\u001b[39m \u001b[38;5;28mself\u001b[39m\u001b[38;5;241m.\u001b[39m_select_forward_and_backward_functions(\n\u001b[0;32m   1966\u001b[0m     args,\n\u001b[0;32m   1967\u001b[0m     possible_gradient_type,\n\u001b[0;32m   1968\u001b[0m     executing_eagerly)\n\u001b[0;32m   1969\u001b[0m forward_function, args_with_tangents \u001b[38;5;241m=\u001b[39m forward_backward\u001b[38;5;241m.\u001b[39mforward()\n",
      "File \u001b[1;32m~\\anaconda3\\envs\\Tensorflow\\lib\\site-packages\\tensorflow\\python\\eager\\function.py:591\u001b[0m, in \u001b[0;36m_EagerDefinedFunction.call\u001b[1;34m(self, ctx, args, cancellation_manager)\u001b[0m\n\u001b[0;32m    589\u001b[0m \u001b[38;5;28;01mwith\u001b[39;00m _InterpolateFunctionError(\u001b[38;5;28mself\u001b[39m):\n\u001b[0;32m    590\u001b[0m   \u001b[38;5;28;01mif\u001b[39;00m cancellation_manager \u001b[38;5;129;01mis\u001b[39;00m \u001b[38;5;28;01mNone\u001b[39;00m:\n\u001b[1;32m--> 591\u001b[0m     outputs \u001b[38;5;241m=\u001b[39m \u001b[43mexecute\u001b[49m\u001b[38;5;241;43m.\u001b[39;49m\u001b[43mexecute\u001b[49m\u001b[43m(\u001b[49m\n\u001b[0;32m    592\u001b[0m \u001b[43m        \u001b[49m\u001b[38;5;28;43mstr\u001b[39;49m\u001b[43m(\u001b[49m\u001b[38;5;28;43mself\u001b[39;49m\u001b[38;5;241;43m.\u001b[39;49m\u001b[43msignature\u001b[49m\u001b[38;5;241;43m.\u001b[39;49m\u001b[43mname\u001b[49m\u001b[43m)\u001b[49m\u001b[43m,\u001b[49m\n\u001b[0;32m    593\u001b[0m \u001b[43m        \u001b[49m\u001b[43mnum_outputs\u001b[49m\u001b[38;5;241;43m=\u001b[39;49m\u001b[38;5;28;43mself\u001b[39;49m\u001b[38;5;241;43m.\u001b[39;49m\u001b[43m_num_outputs\u001b[49m\u001b[43m,\u001b[49m\n\u001b[0;32m    594\u001b[0m \u001b[43m        \u001b[49m\u001b[43minputs\u001b[49m\u001b[38;5;241;43m=\u001b[39;49m\u001b[43margs\u001b[49m\u001b[43m,\u001b[49m\n\u001b[0;32m    595\u001b[0m \u001b[43m        \u001b[49m\u001b[43mattrs\u001b[49m\u001b[38;5;241;43m=\u001b[39;49m\u001b[43mattrs\u001b[49m\u001b[43m,\u001b[49m\n\u001b[0;32m    596\u001b[0m \u001b[43m        \u001b[49m\u001b[43mctx\u001b[49m\u001b[38;5;241;43m=\u001b[39;49m\u001b[43mctx\u001b[49m\u001b[43m)\u001b[49m\n\u001b[0;32m    597\u001b[0m   \u001b[38;5;28;01melse\u001b[39;00m:\n\u001b[0;32m    598\u001b[0m     outputs \u001b[38;5;241m=\u001b[39m execute\u001b[38;5;241m.\u001b[39mexecute_with_cancellation(\n\u001b[0;32m    599\u001b[0m         \u001b[38;5;28mstr\u001b[39m(\u001b[38;5;28mself\u001b[39m\u001b[38;5;241m.\u001b[39msignature\u001b[38;5;241m.\u001b[39mname),\n\u001b[0;32m    600\u001b[0m         num_outputs\u001b[38;5;241m=\u001b[39m\u001b[38;5;28mself\u001b[39m\u001b[38;5;241m.\u001b[39m_num_outputs,\n\u001b[1;32m   (...)\u001b[0m\n\u001b[0;32m    603\u001b[0m         ctx\u001b[38;5;241m=\u001b[39mctx,\n\u001b[0;32m    604\u001b[0m         cancellation_manager\u001b[38;5;241m=\u001b[39mcancellation_manager)\n",
      "File \u001b[1;32m~\\anaconda3\\envs\\Tensorflow\\lib\\site-packages\\tensorflow\\python\\eager\\execute.py:59\u001b[0m, in \u001b[0;36mquick_execute\u001b[1;34m(op_name, num_outputs, inputs, attrs, ctx, name)\u001b[0m\n\u001b[0;32m     57\u001b[0m \u001b[38;5;28;01mtry\u001b[39;00m:\n\u001b[0;32m     58\u001b[0m   ctx\u001b[38;5;241m.\u001b[39mensure_initialized()\n\u001b[1;32m---> 59\u001b[0m   tensors \u001b[38;5;241m=\u001b[39m \u001b[43mpywrap_tfe\u001b[49m\u001b[38;5;241;43m.\u001b[39;49m\u001b[43mTFE_Py_Execute\u001b[49m\u001b[43m(\u001b[49m\u001b[43mctx\u001b[49m\u001b[38;5;241;43m.\u001b[39;49m\u001b[43m_handle\u001b[49m\u001b[43m,\u001b[49m\u001b[43m \u001b[49m\u001b[43mdevice_name\u001b[49m\u001b[43m,\u001b[49m\u001b[43m \u001b[49m\u001b[43mop_name\u001b[49m\u001b[43m,\u001b[49m\n\u001b[0;32m     60\u001b[0m \u001b[43m                                      \u001b[49m\u001b[43minputs\u001b[49m\u001b[43m,\u001b[49m\u001b[43m \u001b[49m\u001b[43mattrs\u001b[49m\u001b[43m,\u001b[49m\u001b[43m \u001b[49m\u001b[43mnum_outputs\u001b[49m\u001b[43m)\u001b[49m\n\u001b[0;32m     61\u001b[0m \u001b[38;5;28;01mexcept\u001b[39;00m core\u001b[38;5;241m.\u001b[39m_NotOkStatusException \u001b[38;5;28;01mas\u001b[39;00m e:\n\u001b[0;32m     62\u001b[0m   \u001b[38;5;28;01mif\u001b[39;00m name \u001b[38;5;129;01mis\u001b[39;00m \u001b[38;5;129;01mnot\u001b[39;00m \u001b[38;5;28;01mNone\u001b[39;00m:\n",
      "\u001b[1;31mKeyboardInterrupt\u001b[0m: "
     ]
    }
   ],
   "source": [
    "model.fit(x=X, y=y, batch_size=100, epochs=300, verbose=2) "
   ]
  },
  {
   "cell_type": "code",
   "execution_count": null,
   "id": "1d5b8c7e",
   "metadata": {},
   "outputs": [],
   "source": [
    "to_predict = df.tail(8)\n",
    "to_predict\n",
    "# y_pred = model.predict(np.array([scaled_to_predict]))\n",
    "# print(\"The predicted numbers in the last lottery game are:\", scaler.inverse_transform(y_pred).astype(int)[0])\n",
    "# prediction = np.array(prediction)\n",
    "# print(\"The actual numbers in the last lottery game were:\", prediction[0])"
   ]
  },
  {
   "cell_type": "code",
   "execution_count": null,
   "id": "a556cb43",
   "metadata": {},
   "outputs": [],
   "source": [
    "to_predict.drop([to_predict.index[0]],axis=0, inplace=True)\n",
    "to_predict"
   ]
  },
  {
   "cell_type": "code",
   "execution_count": null,
   "id": "b7a31be5",
   "metadata": {},
   "outputs": [],
   "source": [
    "prediction = df.tail(1)\n",
    "prediction"
   ]
  },
  {
   "cell_type": "code",
   "execution_count": null,
   "id": "7410f848",
   "metadata": {},
   "outputs": [],
   "source": [
    "to_predict = np.array(to_predict)\n",
    "to_predict"
   ]
  },
  {
   "cell_type": "code",
   "execution_count": null,
   "id": "c58e9908",
   "metadata": {},
   "outputs": [],
   "source": [
    "scaled_to_predict = scaler.transform(to_predict)\n",
    "scaled_to_predict"
   ]
  },
  {
   "cell_type": "code",
   "execution_count": null,
   "id": "8645f510",
   "metadata": {},
   "outputs": [],
   "source": [
    "y_pred = model.predict(np.array([scaled_to_predict]))\n",
    "print(\"The predicted numbers in the last lottery game are:\", scaler.inverse_transform(y_pred).astype(int)[0])"
   ]
  },
  {
   "cell_type": "code",
   "execution_count": null,
   "id": "69c26716",
   "metadata": {},
   "outputs": [],
   "source": [
    "prediction = np.array(prediction)\n",
    "print(\"The actual numbers in the last lottery game were:\", prediction[0])"
   ]
  },
  {
   "cell_type": "markdown",
   "id": "fa268222",
   "metadata": {},
   "source": [
    "# "
   ]
  }
 ],
 "metadata": {
  "kernelspec": {
   "display_name": "Python 3 (ipykernel)",
   "language": "python",
   "name": "python3"
  },
  "language_info": {
   "codemirror_mode": {
    "name": "ipython",
    "version": 3
   },
   "file_extension": ".py",
   "mimetype": "text/x-python",
   "name": "python",
   "nbconvert_exporter": "python",
   "pygments_lexer": "ipython3",
   "version": "3.9.12"
  },
  "varInspector": {
   "cols": {
    "lenName": 16,
    "lenType": 16,
    "lenVar": 40
   },
   "kernels_config": {
    "python": {
     "delete_cmd_postfix": "",
     "delete_cmd_prefix": "del ",
     "library": "var_list.py",
     "varRefreshCmd": "print(var_dic_list())"
    },
    "r": {
     "delete_cmd_postfix": ") ",
     "delete_cmd_prefix": "rm(",
     "library": "var_list.r",
     "varRefreshCmd": "cat(var_dic_list()) "
    }
   },
   "types_to_exclude": [
    "module",
    "function",
    "builtin_function_or_method",
    "instance",
    "_Feature"
   ],
   "window_display": false
  }
 },
 "nbformat": 4,
 "nbformat_minor": 5
}
